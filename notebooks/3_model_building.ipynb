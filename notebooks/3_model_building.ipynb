{
 "cells": [
  {
   "cell_type": "markdown",
   "id": "083ed88f",
   "metadata": {},
   "source": [
    "# Introduction to genome-scale reconstruction\n",
    "\n",
    "Author: Daniel Machado, NTNU\n",
    "\n",
    "License: [CC BY-SA 4.0](http://creativecommons.org/licenses/by-sa/4.0/)\n",
    "\n",
    "> **Note:** This tutorial can only run with the full version of cplex. \n",
    "\n",
    "-------\n",
    "\n",
    "In this very short tutorial:\n",
    "\n",
    "- You will learn how to create a genome-scale metabolic model (GEM) from a genome assembly\n",
    "\n",
    "- You will use the [CarveMe](https://github.com/cdanielmachado/carveme) tool for model reconstruction.\n"
   ]
  },
  {
   "cell_type": "markdown",
   "id": "5d4ea952",
   "metadata": {},
   "source": [
    "## 1 - Testing\n",
    "\n",
    "CarveMe is a command-line tool, which means it runs from a terminal. We can run terminal commands directly from jupyter using `!` : "
   ]
  },
  {
   "cell_type": "code",
   "execution_count": null,
   "id": "311fef40",
   "metadata": {},
   "outputs": [],
   "source": [
    "!carve -h"
   ]
  },
  {
   "cell_type": "markdown",
   "id": "4db748bc",
   "metadata": {},
   "source": [
    "## 2 - Building\n",
    "\n",
    "You can provide CarveMe with your own genomes in FASTA format (.faa) or directly download a genome assembly from RefSeq.\n",
    "\n",
    "In this example we will:\n",
    "  - build a model for *E. coli* str K-12 MG1655 using its reference assembly [(GCF_000005845.2)](https://www.ncbi.nlm.nih.gov/data-hub/genome/GCF_000005845.2/) from RefSeq.\n",
    "  - provide information about a growth medium (-g) for gap-filling (if necessary) and setting up that medium as initial conditions (-i) for simulation purposes \n",
    "  - run in verbose mode to see what is happening"
   ]
  },
  {
   "cell_type": "code",
   "execution_count": null,
   "id": "87ccdd55",
   "metadata": {},
   "outputs": [],
   "source": [
    "!carve --refseq GCF_000005845.2 -o ../files/ecoli_gem.xml -g M9 -i M9 -v"
   ]
  },
  {
   "cell_type": "markdown",
   "id": "77c6fbb5",
   "metadata": {},
   "source": [
    "## 3 - Testing\n",
    "\n",
    "Now let's load our model and run a simple FBA simulation like we have done before:"
   ]
  },
  {
   "cell_type": "code",
   "execution_count": null,
   "id": "2878a8cc",
   "metadata": {},
   "outputs": [],
   "source": [
    "from reframed import load_cbmodel, FBA\n",
    "\n",
    "model = load_cbmodel('../files/ecoli_gem.xml')\n",
    "\n",
    "solution = FBA(model)\n",
    "\n",
    "print(solution)"
   ]
  },
  {
   "cell_type": "markdown",
   "id": "d42eb781",
   "metadata": {},
   "source": [
    "## 4 - Exploring\n",
    "\n",
    "**Exercise:**\n",
    "\n",
    "- Can you print the fluxes of the exchange reactions? \n",
    "- Is *E. coli* growing at its maximum growth rate?\n",
    "- How can you increase the growth rate without adding more glucose? "
   ]
  },
  {
   "cell_type": "code",
   "execution_count": null,
   "id": "2a3fda5a",
   "metadata": {},
   "outputs": [],
   "source": []
  },
  {
   "cell_type": "code",
   "execution_count": null,
   "id": "e78258a0",
   "metadata": {},
   "outputs": [],
   "source": []
  }
 ],
 "metadata": {
  "kernelspec": {
   "display_name": "Python 3 (ipykernel)",
   "language": "python",
   "name": "python3"
  },
  "language_info": {
   "codemirror_mode": {
    "name": "ipython",
    "version": 3
   },
   "file_extension": ".py",
   "mimetype": "text/x-python",
   "name": "python",
   "nbconvert_exporter": "python",
   "pygments_lexer": "ipython3",
   "version": "3.9.12"
  }
 },
 "nbformat": 4,
 "nbformat_minor": 5
}
